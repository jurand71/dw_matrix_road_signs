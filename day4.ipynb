{
  "nbformat": 4,
  "nbformat_minor": 0,
  "metadata": {
    "colab": {
      "name": "day4.ipynb",
      "provenance": [],
      "collapsed_sections": [],
      "mount_file_id": "1ZNVV8RV8JQDdNpyYf1Gf5A5R39LWzOFR",
      "authorship_tag": "ABX9TyMdKTSTs6pd/EVkUQDLcqVB",
      "include_colab_link": true
    },
    "kernelspec": {
      "name": "python3",
      "display_name": "Python 3"
    },
    "accelerator": "GPU"
  },
  "cells": [
    {
      "cell_type": "markdown",
      "metadata": {
        "id": "view-in-github",
        "colab_type": "text"
      },
      "source": [
        "<a href=\"https://colab.research.google.com/github/jurand71/dw_matrix_road_signs/blob/master/day4.ipynb\" target=\"_parent\"><img src=\"https://colab.research.google.com/assets/colab-badge.svg\" alt=\"Open In Colab\"/></a>"
      ]
    },
    {
      "cell_type": "code",
      "metadata": {
        "id": "dqwXbo0v_SdE",
        "colab_type": "code",
        "outputId": "0ddecbad-a6da-4d27-b196-ebc158dd9d0b",
        "colab": {
          "base_uri": "https://localhost:8080/",
          "height": 34
        }
      },
      "source": [
        "cd \"drive/My Drive/Colab Notebooks/matrix/matrix_three/dw_matrix_signs\""
      ],
      "execution_count": 1,
      "outputs": [
        {
          "output_type": "stream",
          "text": [
            "/content/drive/My Drive/Colab Notebooks/matrix/matrix_three/dw_matrix_signs\n"
          ],
          "name": "stdout"
        }
      ]
    },
    {
      "cell_type": "code",
      "metadata": {
        "id": "jbdrOUeeaY_2",
        "colab_type": "code",
        "colab": {
          "base_uri": "https://localhost:8080/",
          "height": 51
        },
        "outputId": "ac2d038f-62bb-4994-d6c2-a80a59cbd297"
      },
      "source": [
        "import pandas as pd\n",
        "import numpy as np\n",
        "import os\n",
        "import datetime\n",
        "\n",
        "import tensorflow as tf\n",
        "from tensorflow.keras.models import Sequential\n",
        "from tensorflow.keras.layers import Conv2D, MaxPool2D, Dense, Flatten, Dropout\n",
        "from tensorflow.keras.utils import to_categorical\n",
        "\n",
        "%load_ext tensorboard\n",
        "\n",
        "import matplotlib.pyplot as plt\n",
        "from skimage import color, exposure\n",
        "\n",
        "from sklearn.metrics import accuracy_score"
      ],
      "execution_count": 26,
      "outputs": [
        {
          "output_type": "stream",
          "text": [
            "The tensorboard extension is already loaded. To reload it, use:\n",
            "  %reload_ext tensorboard\n"
          ],
          "name": "stdout"
        }
      ]
    },
    {
      "cell_type": "code",
      "metadata": {
        "id": "XGDA0thPcctl",
        "colab_type": "code",
        "colab": {}
      },
      "source": [
        "train = pd.read_pickle('data/train.p')\n",
        "test = pd.read_pickle('data/test.p')\n",
        "\n",
        "X_train, y_train = train['features'],train['labels']\n",
        "X_test, y_test = test['features'],test['labels']"
      ],
      "execution_count": 0,
      "outputs": []
    },
    {
      "cell_type": "code",
      "metadata": {
        "id": "PScGYz5Xd5jb",
        "colab_type": "code",
        "colab": {}
      },
      "source": [
        "if y_train.ndim == 1: y_train = to_categorical(y_train)\n",
        "if y_test.ndim == 1: y_test = to_categorical(y_test)\n",
        "input_shape = X_train.shape[1:]\n",
        "num_classes = y_train.shape[1]"
      ],
      "execution_count": 0,
      "outputs": []
    },
    {
      "cell_type": "code",
      "metadata": {
        "id": "tzO7kAHfeOZV",
        "colab_type": "code",
        "colab": {}
      },
      "source": [
        "model = Sequential([\n",
        "        Conv2D(filters=65,kernel_size=(3,3),activation='relu', input_shape = input_shape),\n",
        "        Flatten(data_format=None),\n",
        "        Dense(num_classes,activation='softmax')            \n",
        "])"
      ],
      "execution_count": 0,
      "outputs": []
    },
    {
      "cell_type": "code",
      "metadata": {
        "id": "fuAMNDpqgMm9",
        "colab_type": "code",
        "outputId": "d0eb3761-1d7d-4cbb-d2d0-995191473e10",
        "colab": {
          "base_uri": "https://localhost:8080/",
          "height": 255
        }
      },
      "source": [
        "model.summary()"
      ],
      "execution_count": 0,
      "outputs": [
        {
          "output_type": "stream",
          "text": [
            "Model: \"sequential\"\n",
            "_________________________________________________________________\n",
            "Layer (type)                 Output Shape              Param #   \n",
            "=================================================================\n",
            "conv2d (Conv2D)              (None, 30, 30, 65)        1820      \n",
            "_________________________________________________________________\n",
            "flatten (Flatten)            (None, 58500)             0         \n",
            "_________________________________________________________________\n",
            "dense (Dense)                (None, 43)                2515543   \n",
            "=================================================================\n",
            "Total params: 2,517,363\n",
            "Trainable params: 2,517,363\n",
            "Non-trainable params: 0\n",
            "_________________________________________________________________\n"
          ],
          "name": "stdout"
        }
      ]
    },
    {
      "cell_type": "code",
      "metadata": {
        "id": "gikPjxSNggDh",
        "colab_type": "code",
        "outputId": "51a2877e-7b68-4928-95b8-71dd564b23ba",
        "colab": {
          "base_uri": "https://localhost:8080/",
          "height": 51
        }
      },
      "source": [
        "model.compile(loss='categorical_crossentropy' ,optimizer='Adam',metrics=['accuracy'])\n",
        "model.fit(X_train, y_train)"
      ],
      "execution_count": 6,
      "outputs": [
        {
          "output_type": "stream",
          "text": [
            "1088/1088 [==============================] - 4s 4ms/step - loss: 9.7766 - accuracy: 0.7931\n"
          ],
          "name": "stdout"
        },
        {
          "output_type": "execute_result",
          "data": {
            "text/plain": [
              "<tensorflow.python.keras.callbacks.History at 0x7f9c1034a240>"
            ]
          },
          "metadata": {
            "tags": []
          },
          "execution_count": 6
        }
      ]
    },
    {
      "cell_type": "code",
      "metadata": {
        "id": "XM8ypXvPhw4c",
        "colab_type": "code",
        "colab": {}
      },
      "source": [
        "def get_cnn_v1(input_shape,num_classes):\n",
        "    return Sequential([\n",
        "        Conv2D(filters=65,kernel_size=(3,3),activation='relu', input_shape = input_shape),\n",
        "        Flatten(data_format=None),\n",
        "        Dense(num_classes,activation='softmax')            \n",
        "])\n",
        "    \n",
        "def train_model(model, X_train, y_train, params_fit={}):\n",
        "  model.compile(loss='categorical_crossentropy', optimizer='Adam', metrics=['accuracy'])\n",
        "  \n",
        "  logdir = os.path.join(\"logs\", datetime.datetime.now().strftime(\"%Y%m%d-%H%M%S\"))\n",
        "  tensorboard_callback = tf.keras.callbacks.TensorBoard(logdir, histogram_freq=1)\n",
        "\n",
        "  model.fit(\n",
        "      X_train, \n",
        "      y_train,\n",
        "      batch_size=params_fit.get('batch_size',128),\n",
        "      epochs=params_fit.get('epochs',5),\n",
        "      verbose=params_fit.get('verbose',1),\n",
        "      validation_data=params_fit.get('validation_data',(X_train,y_train)),\n",
        "      callbacks = [tensorboard_callback]\n",
        "  )\n",
        "\n",
        "  return model"
      ],
      "execution_count": 0,
      "outputs": []
    },
    {
      "cell_type": "code",
      "metadata": {
        "id": "3wPwzHnSidGg",
        "colab_type": "code",
        "outputId": "26a67fb7-fac3-45b8-bb9b-86049e8c6150",
        "colab": {
          "base_uri": "https://localhost:8080/",
          "height": 357
        }
      },
      "source": [
        "model = get_cnn_v1(input_shape,num_classes)\n",
        "params_fit = {\n",
        "    'epochs':10\n",
        "}\n",
        "model_trained = train_model(model, X_train, y_train, params_fit)"
      ],
      "execution_count": 11,
      "outputs": [
        {
          "output_type": "stream",
          "text": [
            "Epoch 1/10\n",
            "272/272 [==============================] - 3s 11ms/step - loss: 21.0057 - accuracy: 0.7452 - val_loss: 0.2199 - val_accuracy: 0.9461\n",
            "Epoch 2/10\n",
            "272/272 [==============================] - 3s 11ms/step - loss: 0.2139 - accuracy: 0.9488 - val_loss: 0.1609 - val_accuracy: 0.9577\n",
            "Epoch 3/10\n",
            "272/272 [==============================] - 3s 11ms/step - loss: 0.1322 - accuracy: 0.9684 - val_loss: 0.0988 - val_accuracy: 0.9750\n",
            "Epoch 4/10\n",
            "272/272 [==============================] - 3s 11ms/step - loss: 0.1140 - accuracy: 0.9726 - val_loss: 0.1000 - val_accuracy: 0.9768\n",
            "Epoch 5/10\n",
            "272/272 [==============================] - 3s 11ms/step - loss: 0.0837 - accuracy: 0.9784 - val_loss: 0.0615 - val_accuracy: 0.9862\n",
            "Epoch 6/10\n",
            "272/272 [==============================] - 3s 11ms/step - loss: 0.0841 - accuracy: 0.9801 - val_loss: 0.1034 - val_accuracy: 0.9764\n",
            "Epoch 7/10\n",
            "272/272 [==============================] - 3s 11ms/step - loss: 0.0750 - accuracy: 0.9814 - val_loss: 0.0786 - val_accuracy: 0.9806\n",
            "Epoch 8/10\n",
            "272/272 [==============================] - 3s 10ms/step - loss: 0.0948 - accuracy: 0.9778 - val_loss: 0.0561 - val_accuracy: 0.9861\n",
            "Epoch 9/10\n",
            "272/272 [==============================] - 3s 10ms/step - loss: 0.0817 - accuracy: 0.9825 - val_loss: 0.0386 - val_accuracy: 0.9914\n",
            "Epoch 10/10\n",
            "272/272 [==============================] - 3s 10ms/step - loss: 0.0556 - accuracy: 0.9865 - val_loss: 0.0366 - val_accuracy: 0.9919\n"
          ],
          "name": "stdout"
        }
      ]
    },
    {
      "cell_type": "code",
      "metadata": {
        "id": "LKRCibO13AD4",
        "colab_type": "code",
        "colab": {}
      },
      "source": [
        "df = pd.read_csv('data/signnames.csv')\n",
        "labels_dict = df.to_dict()['b']"
      ],
      "execution_count": 0,
      "outputs": []
    },
    {
      "cell_type": "code",
      "metadata": {
        "id": "7mod652oyisO",
        "colab_type": "code",
        "colab": {
          "base_uri": "https://localhost:8080/",
          "height": 34
        },
        "outputId": "46bd3900-f996-4b4f-a8ae-7de459041ec8"
      },
      "source": [
        "def predict(model_trained, X_test, y_test, scoring=accuracy_score):\n",
        "  y_test_norm = np.argmax(y_test, axis=1)\n",
        "\n",
        "  y_pred_prob = model_trained.predict(X_test)\n",
        "  y_pred = np.argmax(y_pred_prob, axis=1)\n",
        "\n",
        "  return scoring(y_test_norm, y_pred)"
      ],
      "execution_count": 30,
      "outputs": [
        {
          "output_type": "stream",
          "text": [
            "ERROR! Session/line number was not unique in database. History logging moved to new session 60\n"
          ],
          "name": "stdout"
        }
      ]
    },
    {
      "cell_type": "code",
      "metadata": {
        "id": "-LsJnyk-38r1",
        "colab_type": "code",
        "colab": {
          "base_uri": "https://localhost:8080/",
          "height": 34
        },
        "outputId": "583ebd73-baab-4b02-9467-ebdcaa9c5217"
      },
      "source": [
        "predict(model_trained, X_test, y_test)"
      ],
      "execution_count": 31,
      "outputs": [
        {
          "output_type": "execute_result",
          "data": {
            "text/plain": [
              "0.8346938775510204"
            ]
          },
          "metadata": {
            "tags": []
          },
          "execution_count": 31
        }
      ]
    },
    {
      "cell_type": "code",
      "metadata": {
        "id": "lJFOGlsH6AJZ",
        "colab_type": "code",
        "colab": {}
      },
      "source": [
        "def train_and_predict(model):\n",
        "  model_trained = train_model(model, X_train, y_train, params_fit)\n",
        "  return predict(model_trained, X_test, y_test)"
      ],
      "execution_count": 0,
      "outputs": []
    },
    {
      "cell_type": "code",
      "metadata": {
        "id": "VUpAeU9e4pVJ",
        "colab_type": "code",
        "colab": {
          "base_uri": "https://localhost:8080/",
          "height": 374
        },
        "outputId": "006e3e6b-13e9-4411-ca42-5025a11dfc5f"
      },
      "source": [
        "def get_cnn_v2(input_shape,num_classes):\n",
        "    return Sequential([\n",
        "        Conv2D(filters=32,kernel_size=(3,3),activation='relu', input_shape = input_shape),\n",
        "        MaxPool2D(),\n",
        "        Dropout(0.3),\n",
        "\n",
        "        Conv2D(filters=64,kernel_size=(3,3),activation='relu'),\n",
        "        MaxPool2D(),\n",
        "        Dropout(0.3),\n",
        "\n",
        "        Flatten(data_format=None),\n",
        "\n",
        "        Dense(1024,activation='relu'),\n",
        "        Dropout(0.3),\n",
        "        Dense(num_classes,activation='softmax')            \n",
        "])\n",
        "\n",
        "train_and_predict(get_cnn_v2(input_shape,num_classes))"
      ],
      "execution_count": 34,
      "outputs": [
        {
          "output_type": "stream",
          "text": [
            "Epoch 1/10\n",
            "272/272 [==============================] - 3s 11ms/step - loss: 5.7827 - accuracy: 0.3254 - val_loss: 1.0996 - val_accuracy: 0.7165\n",
            "Epoch 2/10\n",
            "272/272 [==============================] - 3s 11ms/step - loss: 1.0040 - accuracy: 0.7046 - val_loss: 0.3173 - val_accuracy: 0.9247\n",
            "Epoch 3/10\n",
            "272/272 [==============================] - 3s 11ms/step - loss: 0.5440 - accuracy: 0.8401 - val_loss: 0.1474 - val_accuracy: 0.9656\n",
            "Epoch 4/10\n",
            "272/272 [==============================] - 3s 11ms/step - loss: 0.3583 - accuracy: 0.8930 - val_loss: 0.0855 - val_accuracy: 0.9797\n",
            "Epoch 5/10\n",
            "272/272 [==============================] - 3s 10ms/step - loss: 0.2846 - accuracy: 0.9161 - val_loss: 0.0653 - val_accuracy: 0.9873\n",
            "Epoch 6/10\n",
            "272/272 [==============================] - 3s 11ms/step - loss: 0.2295 - accuracy: 0.9326 - val_loss: 0.0474 - val_accuracy: 0.9885\n",
            "Epoch 7/10\n",
            "272/272 [==============================] - 3s 11ms/step - loss: 0.1996 - accuracy: 0.9406 - val_loss: 0.0417 - val_accuracy: 0.9920\n",
            "Epoch 8/10\n",
            "272/272 [==============================] - 3s 11ms/step - loss: 0.1805 - accuracy: 0.9477 - val_loss: 0.0276 - val_accuracy: 0.9928\n",
            "Epoch 9/10\n",
            "272/272 [==============================] - 3s 10ms/step - loss: 0.1579 - accuracy: 0.9534 - val_loss: 0.0177 - val_accuracy: 0.9959\n",
            "Epoch 10/10\n",
            "272/272 [==============================] - 3s 11ms/step - loss: 0.1388 - accuracy: 0.9582 - val_loss: 0.0219 - val_accuracy: 0.9945\n"
          ],
          "name": "stdout"
        },
        {
          "output_type": "execute_result",
          "data": {
            "text/plain": [
              "0.9321995464852608"
            ]
          },
          "metadata": {
            "tags": []
          },
          "execution_count": 34
        }
      ]
    },
    {
      "cell_type": "code",
      "metadata": {
        "id": "zOkuYnqB6EK3",
        "colab_type": "code",
        "colab": {
          "base_uri": "https://localhost:8080/",
          "height": 374
        },
        "outputId": "e73fcbf5-6c18-40bf-f1d9-aa6dfe22a702"
      },
      "source": [
        "def get_cnn_v3(input_shape,num_classes):\n",
        "    return Sequential([\n",
        "        Conv2D(filters=32,kernel_size=(3,3),activation='relu', input_shape = input_shape),\n",
        "        Conv2D(filters=32,kernel_size=(3,3),activation='relu'),\n",
        "        MaxPool2D(),\n",
        "        Dropout(0.3),\n",
        "\n",
        "        Conv2D(filters=64,kernel_size=(3,3),activation='relu'),\n",
        "        Conv2D(filters=64,kernel_size=(3,3),activation='relu'),\n",
        "        MaxPool2D(),\n",
        "        Dropout(0.3),\n",
        "\n",
        "        Flatten(data_format=None),\n",
        "\n",
        "        Dense(1024,activation='relu'),\n",
        "        Dropout(0.3),\n",
        "        Dense(num_classes,activation='softmax')            \n",
        "])\n",
        "\n",
        "train_and_predict(get_cnn_v3(input_shape,num_classes))"
      ],
      "execution_count": 35,
      "outputs": [
        {
          "output_type": "stream",
          "text": [
            "Epoch 1/10\n",
            "272/272 [==============================] - 4s 14ms/step - loss: 1.8914 - accuracy: 0.5527 - val_loss: 0.3645 - val_accuracy: 0.9202\n",
            "Epoch 2/10\n",
            "272/272 [==============================] - 4s 13ms/step - loss: 0.3940 - accuracy: 0.8822 - val_loss: 0.0882 - val_accuracy: 0.9788\n",
            "Epoch 3/10\n",
            "272/272 [==============================] - 4s 13ms/step - loss: 0.2181 - accuracy: 0.9355 - val_loss: 0.0415 - val_accuracy: 0.9902\n",
            "Epoch 4/10\n",
            "272/272 [==============================] - 4s 13ms/step - loss: 0.1591 - accuracy: 0.9534 - val_loss: 0.0264 - val_accuracy: 0.9949\n",
            "Epoch 5/10\n",
            "272/272 [==============================] - 4s 13ms/step - loss: 0.1055 - accuracy: 0.9689 - val_loss: 0.0232 - val_accuracy: 0.9952\n",
            "Epoch 6/10\n",
            "272/272 [==============================] - 4s 13ms/step - loss: 0.0994 - accuracy: 0.9705 - val_loss: 0.0142 - val_accuracy: 0.9961\n",
            "Epoch 7/10\n",
            "272/272 [==============================] - 4s 13ms/step - loss: 0.0788 - accuracy: 0.9770 - val_loss: 0.0095 - val_accuracy: 0.9981\n",
            "Epoch 8/10\n",
            "272/272 [==============================] - 4s 13ms/step - loss: 0.0801 - accuracy: 0.9772 - val_loss: 0.0070 - val_accuracy: 0.9982\n",
            "Epoch 9/10\n",
            "272/272 [==============================] - 3s 13ms/step - loss: 0.0651 - accuracy: 0.9814 - val_loss: 0.0074 - val_accuracy: 0.9976\n",
            "Epoch 10/10\n",
            "272/272 [==============================] - 4s 13ms/step - loss: 0.0633 - accuracy: 0.9815 - val_loss: 0.0078 - val_accuracy: 0.9980\n"
          ],
          "name": "stdout"
        },
        {
          "output_type": "execute_result",
          "data": {
            "text/plain": [
              "0.9782312925170068"
            ]
          },
          "metadata": {
            "tags": []
          },
          "execution_count": 35
        }
      ]
    },
    {
      "cell_type": "code",
      "metadata": {
        "id": "n3A7e05m82VH",
        "colab_type": "code",
        "colab": {
          "base_uri": "https://localhost:8080/",
          "height": 374
        },
        "outputId": "ac515240-6b21-4122-ccf9-490e19f99896"
      },
      "source": [
        "def get_cnn_v4(input_shape,num_classes):\n",
        "    return Sequential([\n",
        "        Conv2D(filters=32,kernel_size=(3,3),activation='relu', input_shape = input_shape),\n",
        "        Conv2D(filters=32,kernel_size=(3,3),activation='relu', padding='same'),\n",
        "        MaxPool2D(),\n",
        "        Dropout(0.3),\n",
        "\n",
        "        Conv2D(filters=64,kernel_size=(3,3),activation='relu', padding='same'),\n",
        "        Conv2D(filters=64,kernel_size=(3,3),activation='relu'),\n",
        "        MaxPool2D(),\n",
        "        Dropout(0.3),\n",
        "\n",
        "        Conv2D(filters=64,kernel_size=(3,3),activation='relu', padding='same'),\n",
        "        Conv2D(filters=64,kernel_size=(3,3),activation='relu'),\n",
        "        MaxPool2D(),\n",
        "        Dropout(0.3),\n",
        "\n",
        "        Flatten(data_format=None),\n",
        "\n",
        "        Dense(1024,activation='relu'),\n",
        "        Dropout(0.3),\n",
        "\n",
        "        Dense(1024,activation='relu'),\n",
        "        Dropout(0.3),\n",
        "        Dense(num_classes,activation='softmax')            \n",
        "])\n",
        "\n",
        "train_and_predict(get_cnn_v4(input_shape,num_classes))"
      ],
      "execution_count": 37,
      "outputs": [
        {
          "output_type": "stream",
          "text": [
            "Epoch 1/10\n",
            "272/272 [==============================] - 4s 16ms/step - loss: 2.8315 - accuracy: 0.2324 - val_loss: 1.3974 - val_accuracy: 0.5713\n",
            "Epoch 2/10\n",
            "272/272 [==============================] - 4s 16ms/step - loss: 1.0625 - accuracy: 0.6579 - val_loss: 0.3103 - val_accuracy: 0.9034\n",
            "Epoch 3/10\n",
            "272/272 [==============================] - 4s 15ms/step - loss: 0.4888 - accuracy: 0.8435 - val_loss: 0.1132 - val_accuracy: 0.9666\n",
            "Epoch 4/10\n",
            "272/272 [==============================] - 4s 15ms/step - loss: 0.3092 - accuracy: 0.9053 - val_loss: 0.0841 - val_accuracy: 0.9758\n",
            "Epoch 5/10\n",
            "272/272 [==============================] - 4s 15ms/step - loss: 0.2200 - accuracy: 0.9326 - val_loss: 0.0587 - val_accuracy: 0.9832\n",
            "Epoch 6/10\n",
            "272/272 [==============================] - 4s 15ms/step - loss: 0.1716 - accuracy: 0.9483 - val_loss: 0.0424 - val_accuracy: 0.9868\n",
            "Epoch 7/10\n",
            "272/272 [==============================] - 4s 15ms/step - loss: 0.1473 - accuracy: 0.9568 - val_loss: 0.0257 - val_accuracy: 0.9935\n",
            "Epoch 8/10\n",
            "272/272 [==============================] - 4s 15ms/step - loss: 0.1420 - accuracy: 0.9590 - val_loss: 0.0336 - val_accuracy: 0.9895\n",
            "Epoch 9/10\n",
            "272/272 [==============================] - 4s 15ms/step - loss: 0.1236 - accuracy: 0.9657 - val_loss: 0.0229 - val_accuracy: 0.9934\n",
            "Epoch 10/10\n",
            "272/272 [==============================] - 4s 15ms/step - loss: 0.1119 - accuracy: 0.9688 - val_loss: 0.0130 - val_accuracy: 0.9962\n"
          ],
          "name": "stdout"
        },
        {
          "output_type": "execute_result",
          "data": {
            "text/plain": [
              "0.972562358276644"
            ]
          },
          "metadata": {
            "tags": []
          },
          "execution_count": 37
        }
      ]
    },
    {
      "cell_type": "markdown",
      "metadata": {
        "id": "lf8GD6R59cHr",
        "colab_type": "text"
      },
      "source": [
        "Konwersja RGB do szarości\n"
      ]
    },
    {
      "cell_type": "code",
      "metadata": {
        "id": "e6jTfr1U9jkZ",
        "colab_type": "code",
        "colab": {
          "base_uri": "https://localhost:8080/",
          "height": 34
        },
        "outputId": "778b1868-7109-4bad-d18e-ca7d391a483a"
      },
      "source": [
        "X_train[0].shape"
      ],
      "execution_count": 39,
      "outputs": [
        {
          "output_type": "execute_result",
          "data": {
            "text/plain": [
              "(32, 32, 3)"
            ]
          },
          "metadata": {
            "tags": []
          },
          "execution_count": 39
        }
      ]
    },
    {
      "cell_type": "code",
      "metadata": {
        "id": "6M8Y9Hxu9r0x",
        "colab_type": "code",
        "colab": {
          "base_uri": "https://localhost:8080/",
          "height": 283
        },
        "outputId": "02d20f9a-2d99-4200-c2e2-4a518f14bd27"
      },
      "source": [
        "plt.imshow(color.rgb2gray(X_train[0]), cmap = plt.get_cmap('gray'))"
      ],
      "execution_count": 41,
      "outputs": [
        {
          "output_type": "execute_result",
          "data": {
            "text/plain": [
              "<matplotlib.image.AxesImage at 0x7f9b9fc994e0>"
            ]
          },
          "metadata": {
            "tags": []
          },
          "execution_count": 41
        },
        {
          "output_type": "display_data",
          "data": {
            "image/png": "[encoded data removed]",
            "text/plain": [
              "<Figure size 432x288 with 1 Axes>"
            ]
          },
          "metadata": {
            "tags": []
          }
        }
      ]
    },
    {
      "cell_type": "markdown",
      "metadata": {
        "id": "Z2NurqvJ-xCs",
        "colab_type": "text"
      },
      "source": [
        "Uczymy sie na szarych zdjeciach"
      ]
    },
    {
      "cell_type": "code",
      "metadata": {
        "id": "WEscbEaB-3_Z",
        "colab_type": "code",
        "colab": {
          "base_uri": "https://localhost:8080/",
          "height": 204
        },
        "outputId": "51af9a1d-437b-46c6-b49b-41041706391d"
      },
      "source": [
        "X_train_gray = color.rgb2gray(X_train).reshape(-1,32,32,1)\n",
        "X_test_gray = color.rgb2gray(X_test).reshape(-1,32,32,1)\n",
        "\n",
        "model = get_cnn_v4((32,32,1),num_classes)\n",
        "model_trained = train_model(model, X_train_gray, y_train, params_fit={})\n",
        "predict(model_trained, X_test_gray, y_test)"
      ],
      "execution_count": 47,
      "outputs": [
        {
          "output_type": "stream",
          "text": [
            "Epoch 1/5\n",
            "272/272 [==============================] - 4s 16ms/step - loss: 2.6044 - accuracy: 0.2739 - val_loss: 0.6099 - val_accuracy: 0.8079\n",
            "Epoch 2/5\n",
            "272/272 [==============================] - 4s 15ms/step - loss: 0.4890 - accuracy: 0.8447 - val_loss: 0.0865 - val_accuracy: 0.9746\n",
            "Epoch 3/5\n",
            "272/272 [==============================] - 4s 15ms/step - loss: 0.2156 - accuracy: 0.9328 - val_loss: 0.0470 - val_accuracy: 0.9856\n",
            "Epoch 4/5\n",
            "272/272 [==============================] - 4s 15ms/step - loss: 0.1574 - accuracy: 0.9492 - val_loss: 0.0359 - val_accuracy: 0.9900\n",
            "Epoch 5/5\n",
            "272/272 [==============================] - 4s 15ms/step - loss: 0.1206 - accuracy: 0.9624 - val_loss: 0.0213 - val_accuracy: 0.9938\n"
          ],
          "name": "stdout"
        },
        {
          "output_type": "execute_result",
          "data": {
            "text/plain": [
              "0.9605442176870749"
            ]
          },
          "metadata": {
            "tags": []
          },
          "execution_count": 47
        }
      ]
    },
    {
      "cell_type": "code",
      "metadata": {
        "id": "6kq5Cw4bAeZf",
        "colab_type": "code",
        "colab": {}
      },
      "source": [
        ""
      ],
      "execution_count": 0,
      "outputs": []
    }
  ]
}