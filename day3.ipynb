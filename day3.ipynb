{
  "nbformat": 4,
  "nbformat_minor": 0,
  "metadata": {
    "colab": {
      "name": "day3.ipynb",
      "provenance": [],
      "collapsed_sections": [],
      "mount_file_id": "1CZU0-8DAo7S6O0ZC7tkwaFKrlGaKfLJO",
      "authorship_tag": "ABX9TyM2UvtNppv2DL73TzaTBM9C",
      "include_colab_link": true
    },
    "kernelspec": {
      "name": "python3",
      "display_name": "Python 3"
    },
    "accelerator": "GPU"
  },
  "cells": [
    {
      "cell_type": "markdown",
      "metadata": {
        "id": "view-in-github",
        "colab_type": "text"
      },
      "source": [
        "<a href=\"https://colab.research.google.com/github/jurand71/dw_matrix_road_signs/blob/master/day3.ipynb\" target=\"_parent\"><img src=\"https://colab.research.google.com/assets/colab-badge.svg\" alt=\"Open In Colab\"/></a>"
      ]
    },
    {
      "cell_type": "code",
      "metadata": {
        "id": "dqwXbo0v_SdE",
        "colab_type": "code",
        "colab": {
          "base_uri": "https://localhost:8080/",
          "height": 34
        },
        "outputId": "59657e11-b0c1-43fc-a544-c8df7df0d828"
      },
      "source": [
        "cd \"drive/My Drive/Colab Notebooks/matrix/matrix_three/dw_matrix_signs\""
      ],
      "execution_count": 1,
      "outputs": [
        {
          "output_type": "stream",
          "text": [
            "/content/drive/My Drive/Colab Notebooks/matrix/matrix_three/dw_matrix_signs\n"
          ],
          "name": "stdout"
        }
      ]
    },
    {
      "cell_type": "code",
      "metadata": {
        "id": "jbdrOUeeaY_2",
        "colab_type": "code",
        "colab": {
          "base_uri": "https://localhost:8080/",
          "height": 51
        },
        "outputId": "499b4f8b-ed11-46d5-c18e-eafd01442ecc"
      },
      "source": [
        "import pandas as pd\n",
        "import numpy as np\n",
        "import os\n",
        "import datetime\n",
        "\n",
        "import tensorflow as tf\n",
        "from tensorflow.keras.models import Sequential\n",
        "from tensorflow.keras.layers import Conv2D, MaxPool2D, Dense, Flatten, Dropout\n",
        "from tensorflow.keras.utils import to_categorical\n",
        "\n",
        "%load_ext tensorboard"
      ],
      "execution_count": 9,
      "outputs": [
        {
          "output_type": "stream",
          "text": [
            "The tensorboard extension is already loaded. To reload it, use:\n",
            "  %reload_ext tensorboard\n"
          ],
          "name": "stdout"
        }
      ]
    },
    {
      "cell_type": "code",
      "metadata": {
        "id": "XGDA0thPcctl",
        "colab_type": "code",
        "colab": {}
      },
      "source": [
        "train = pd.read_pickle('data/train.p')\n",
        "test = pd.read_pickle('data/test.p')\n",
        "\n",
        "X_train, y_train = train['features'],train['labels']\n",
        "X_test, y_test = test['features'],test['labels']"
      ],
      "execution_count": 0,
      "outputs": []
    },
    {
      "cell_type": "code",
      "metadata": {
        "id": "jyhHFWkSc3Bp",
        "colab_type": "code",
        "colab": {
          "base_uri": "https://localhost:8080/",
          "height": 34
        },
        "outputId": "3d4de2a1-018c-4e4a-a069-e2c8a6ebc077"
      },
      "source": [
        "y_train"
      ],
      "execution_count": 6,
      "outputs": [
        {
          "output_type": "execute_result",
          "data": {
            "text/plain": [
              "array([41, 41, 41, ..., 25, 25, 25], dtype=uint8)"
            ]
          },
          "metadata": {
            "tags": []
          },
          "execution_count": 6
        }
      ]
    },
    {
      "cell_type": "code",
      "metadata": {
        "id": "LcRofBwadEX2",
        "colab_type": "code",
        "colab": {
          "base_uri": "https://localhost:8080/",
          "height": 34
        },
        "outputId": "8ad81b54-0e09-44f2-8b86-8024e2bee78a"
      },
      "source": [
        "len(np.unique(y_train))"
      ],
      "execution_count": 7,
      "outputs": [
        {
          "output_type": "execute_result",
          "data": {
            "text/plain": [
              "43"
            ]
          },
          "metadata": {
            "tags": []
          },
          "execution_count": 7
        }
      ]
    },
    {
      "cell_type": "code",
      "metadata": {
        "id": "ttEUj-TJdMQ7",
        "colab_type": "code",
        "colab": {
          "base_uri": "https://localhost:8080/",
          "height": 68
        },
        "outputId": "1893f971-1c49-4aef-ecd9-9d6da967428f"
      },
      "source": [
        "to_categorical(y_train[0])"
      ],
      "execution_count": 8,
      "outputs": [
        {
          "output_type": "execute_result",
          "data": {
            "text/plain": [
              "array([0., 0., 0., 0., 0., 0., 0., 0., 0., 0., 0., 0., 0., 0., 0., 0., 0.,\n",
              "       0., 0., 0., 0., 0., 0., 0., 0., 0., 0., 0., 0., 0., 0., 0., 0., 0.,\n",
              "       0., 0., 0., 0., 0., 0., 0., 1.], dtype=float32)"
            ]
          },
          "metadata": {
            "tags": []
          },
          "execution_count": 8
        }
      ]
    },
    {
      "cell_type": "code",
      "metadata": {
        "id": "9HyDiuIBdZje",
        "colab_type": "code",
        "colab": {
          "base_uri": "https://localhost:8080/",
          "height": 68
        },
        "outputId": "740a941c-b91a-43fd-c49c-c9d58c5038ca"
      },
      "source": [
        "np.unique(y_train)"
      ],
      "execution_count": 10,
      "outputs": [
        {
          "output_type": "execute_result",
          "data": {
            "text/plain": [
              "array([ 0,  1,  2,  3,  4,  5,  6,  7,  8,  9, 10, 11, 12, 13, 14, 15, 16,\n",
              "       17, 18, 19, 20, 21, 22, 23, 24, 25, 26, 27, 28, 29, 30, 31, 32, 33,\n",
              "       34, 35, 36, 37, 38, 39, 40, 41, 42], dtype=uint8)"
            ]
          },
          "metadata": {
            "tags": []
          },
          "execution_count": 10
        }
      ]
    },
    {
      "cell_type": "code",
      "metadata": {
        "id": "PScGYz5Xd5jb",
        "colab_type": "code",
        "colab": {}
      },
      "source": [
        "if y_train.ndim == 1: y_train = to_categorical(y_train)\n",
        "if y_test.ndim == 1: y_test = to_categorical(y_test)\n",
        "input_shape = X_train.shape[1:]\n",
        "num_classes = y_train.shape[1]"
      ],
      "execution_count": 0,
      "outputs": []
    },
    {
      "cell_type": "code",
      "metadata": {
        "id": "tzO7kAHfeOZV",
        "colab_type": "code",
        "colab": {}
      },
      "source": [
        "model = Sequential([\n",
        "        Conv2D(filters=65,kernel_size=(3,3),activation='relu', input_shape = input_shape),\n",
        "        Flatten(data_format=None),\n",
        "        Dense(num_classes,activation='softmax')            \n",
        "])"
      ],
      "execution_count": 0,
      "outputs": []
    },
    {
      "cell_type": "code",
      "metadata": {
        "id": "fuAMNDpqgMm9",
        "colab_type": "code",
        "colab": {
          "base_uri": "https://localhost:8080/",
          "height": 255
        },
        "outputId": "d0eb3761-1d7d-4cbb-d2d0-995191473e10"
      },
      "source": [
        "model.summary()"
      ],
      "execution_count": 20,
      "outputs": [
        {
          "output_type": "stream",
          "text": [
            "Model: \"sequential\"\n",
            "_________________________________________________________________\n",
            "Layer (type)                 Output Shape              Param #   \n",
            "=================================================================\n",
            "conv2d (Conv2D)              (None, 30, 30, 65)        1820      \n",
            "_________________________________________________________________\n",
            "flatten (Flatten)            (None, 58500)             0         \n",
            "_________________________________________________________________\n",
            "dense (Dense)                (None, 43)                2515543   \n",
            "=================================================================\n",
            "Total params: 2,517,363\n",
            "Trainable params: 2,517,363\n",
            "Non-trainable params: 0\n",
            "_________________________________________________________________\n"
          ],
          "name": "stdout"
        }
      ]
    },
    {
      "cell_type": "code",
      "metadata": {
        "id": "gikPjxSNggDh",
        "colab_type": "code",
        "colab": {
          "base_uri": "https://localhost:8080/",
          "height": 51
        },
        "outputId": "7bb8f6c3-4e70-4253-b38a-bcaa9dfc00ed"
      },
      "source": [
        "model.compile(loss='categorical_crossentropy' ,optimizer='Adam',metrics=['accuracy'])\n",
        "model.fit(X_train, y_train)"
      ],
      "execution_count": 6,
      "outputs": [
        {
          "output_type": "stream",
          "text": [
            "1088/1088 [==============================] - 8s 7ms/step - loss: 9.0926 - accuracy: 0.7815\n"
          ],
          "name": "stdout"
        },
        {
          "output_type": "execute_result",
          "data": {
            "text/plain": [
              "<tensorflow.python.keras.callbacks.History at 0x7f3c8056d710>"
            ]
          },
          "metadata": {
            "tags": []
          },
          "execution_count": 6
        }
      ]
    },
    {
      "cell_type": "code",
      "metadata": {
        "id": "XM8ypXvPhw4c",
        "colab_type": "code",
        "colab": {}
      },
      "source": [
        "def get_cnn_v1(input_shape,num_classes):\n",
        "    return Sequential([\n",
        "        Conv2D(filters=65,kernel_size=(3,3),activation='relu', input_shape = input_shape),\n",
        "        Flatten(data_format=None),\n",
        "        Dense(num_classes,activation='softmax')            \n",
        "])\n",
        "    \n",
        "def train_model(model, X_train, y_train, params_fit={}):\n",
        "  model.compile(loss='categorical_crossentropy' ,optimizer='Adam',metrics=['accuracy'])\n",
        "  \n",
        "  logdir = os.path.join(\"logs\", datetime.datetime.now().strftime(\"%Y%m%d-%H%M%S\"))\n",
        "  tensorboard_callback = tf.keras.callbacks.TensorBoard(logdir,histogram_freq=1)\n",
        "\n",
        "  model.fit(\n",
        "      X_train, \n",
        "      y_train,\n",
        "      batch_size=params_fit.get('batch_size',128),\n",
        "      epochs=params_fit.get('epochs',5),\n",
        "      verbose=params_fit.get('verbose',1),\n",
        "      validation_data=params_fit.get('validation_data',(X_train,y_train)),\n",
        "      callbacks = [tensorboard_callback]\n",
        "  )\n",
        "\n",
        "  return logdir"
      ],
      "execution_count": 0,
      "outputs": []
    },
    {
      "cell_type": "code",
      "metadata": {
        "id": "3wPwzHnSidGg",
        "colab_type": "code",
        "colab": {
          "base_uri": "https://localhost:8080/",
          "height": 204
        },
        "outputId": "51668cca-f1c7-4ba1-957e-e3065005ce21"
      },
      "source": [
        "model = get_cnn_v1(input_shape,num_classes)\n",
        "logdir = train_model(model,X_train, y_train,)"
      ],
      "execution_count": 13,
      "outputs": [
        {
          "output_type": "stream",
          "text": [
            "Epoch 1/5\n",
            "272/272 [==============================] - 7s 26ms/step - loss: 40.0578 - accuracy: 0.7536 - val_loss: 0.2186 - val_accuracy: 0.9501\n",
            "Epoch 2/5\n",
            "272/272 [==============================] - 7s 25ms/step - loss: 0.2039 - accuracy: 0.9545 - val_loss: 0.1292 - val_accuracy: 0.9680\n",
            "Epoch 3/5\n",
            "272/272 [==============================] - 7s 25ms/step - loss: 0.1380 - accuracy: 0.9675 - val_loss: 0.0770 - val_accuracy: 0.9826\n",
            "Epoch 4/5\n",
            "272/272 [==============================] - 7s 25ms/step - loss: 0.1029 - accuracy: 0.9764 - val_loss: 0.0875 - val_accuracy: 0.9785\n",
            "Epoch 5/5\n",
            "272/272 [==============================] - 7s 25ms/step - loss: 0.1631 - accuracy: 0.9639 - val_loss: 0.1068 - val_accuracy: 0.9766\n"
          ],
          "name": "stdout"
        },
        {
          "output_type": "execute_result",
          "data": {
            "text/plain": [
              "'logs/20200401-163007'"
            ]
          },
          "metadata": {
            "tags": []
          },
          "execution_count": 13
        }
      ]
    },
    {
      "cell_type": "code",
      "metadata": {
        "id": "F4FMPwX6lSvm",
        "colab_type": "code",
        "colab": {}
      },
      "source": [
        "%tensorboard --logdir logs"
      ],
      "execution_count": 0,
      "outputs": []
    },
    {
      "cell_type": "code",
      "metadata": {
        "id": "TZQAz89al09x",
        "colab_type": "code",
        "colab": {}
      },
      "source": [
        "def get_cnn_v2(input_shape,num_classes):\n",
        "    return Sequential([\n",
        "        Conv2D(filters=32,kernel_size=(3,3),activation='relu', input_shape = input_shape),\n",
        "        MaxPool2D(),\n",
        "        Dropout(0.5),\n",
        "\n",
        "        Conv2D(filters=64,kernel_size=(3,3),activation='relu'),\n",
        "        MaxPool2D(),\n",
        "        Dropout(0.3),\n",
        "\n",
        "        Flatten(data_format=None),\n",
        "\n",
        "        Dense(1024,activation='relu'),\n",
        "        Dropout(0.5),\n",
        "        Dense(num_classes,activation='softmax')             \n",
        "])"
      ],
      "execution_count": 0,
      "outputs": []
    },
    {
      "cell_type": "code",
      "metadata": {
        "id": "ZBHX2K6-mlI3",
        "colab_type": "code",
        "colab": {
          "base_uri": "https://localhost:8080/",
          "height": 493
        },
        "outputId": "a3f121f3-8006-4e4d-b0c0-6e368452f94d"
      },
      "source": [
        "get_cnn_v2(input_shape,num_classes).summary()"
      ],
      "execution_count": 22,
      "outputs": [
        {
          "output_type": "stream",
          "text": [
            "Model: \"sequential_5\"\n",
            "_________________________________________________________________\n",
            "Layer (type)                 Output Shape              Param #   \n",
            "=================================================================\n",
            "conv2d_6 (Conv2D)            (None, 30, 30, 32)        896       \n",
            "_________________________________________________________________\n",
            "max_pooling2d_2 (MaxPooling2 (None, 15, 15, 32)        0         \n",
            "_________________________________________________________________\n",
            "dropout_3 (Dropout)          (None, 15, 15, 32)        0         \n",
            "_________________________________________________________________\n",
            "conv2d_7 (Conv2D)            (None, 13, 13, 64)        18496     \n",
            "_________________________________________________________________\n",
            "max_pooling2d_3 (MaxPooling2 (None, 6, 6, 64)          0         \n",
            "_________________________________________________________________\n",
            "dropout_4 (Dropout)          (None, 6, 6, 64)          0         \n",
            "_________________________________________________________________\n",
            "flatten_5 (Flatten)          (None, 2304)              0         \n",
            "_________________________________________________________________\n",
            "dense_6 (Dense)              (None, 1024)              2360320   \n",
            "_________________________________________________________________\n",
            "dropout_5 (Dropout)          (None, 1024)              0         \n",
            "_________________________________________________________________\n",
            "dense_7 (Dense)              (None, 43)                44075     \n",
            "=================================================================\n",
            "Total params: 2,423,787\n",
            "Trainable params: 2,423,787\n",
            "Non-trainable params: 0\n",
            "_________________________________________________________________\n"
          ],
          "name": "stdout"
        }
      ]
    },
    {
      "cell_type": "code",
      "metadata": {
        "id": "EXo1dpXsnKLJ",
        "colab_type": "code",
        "colab": {
          "base_uri": "https://localhost:8080/",
          "height": 867
        },
        "outputId": "4bf0e5d0-cd72-4635-819b-eb8ce37da965"
      },
      "source": [
        "model = get_cnn_v2(input_shape,num_classes)\n",
        "params_fit = {\n",
        "    'epochs':25\n",
        "}\n",
        "logdir = train_model(model,X_train, y_train, params_fit)"
      ],
      "execution_count": 25,
      "outputs": [
        {
          "output_type": "stream",
          "text": [
            "Epoch 1/25\n",
            "272/272 [==============================] - 6s 24ms/step - loss: 9.2984 - accuracy: 0.0626 - val_loss: 3.4899 - val_accuracy: 0.0536\n",
            "Epoch 2/25\n",
            "272/272 [==============================] - 6s 23ms/step - loss: 3.0708 - accuracy: 0.1759 - val_loss: 2.6747 - val_accuracy: 0.2622\n",
            "Epoch 3/25\n",
            "272/272 [==============================] - 6s 23ms/step - loss: 2.5142 - accuracy: 0.3100 - val_loss: 1.8980 - val_accuracy: 0.4642\n",
            "Epoch 4/25\n",
            "272/272 [==============================] - 6s 23ms/step - loss: 1.8665 - accuracy: 0.4485 - val_loss: 1.3086 - val_accuracy: 0.6052\n",
            "Epoch 5/25\n",
            "272/272 [==============================] - 6s 23ms/step - loss: 1.4173 - accuracy: 0.5672 - val_loss: 0.7266 - val_accuracy: 0.8025\n",
            "Epoch 6/25\n",
            "272/272 [==============================] - 6s 23ms/step - loss: 1.0134 - accuracy: 0.6898 - val_loss: 0.4462 - val_accuracy: 0.8839\n",
            "Epoch 7/25\n",
            "272/272 [==============================] - 6s 23ms/step - loss: 0.7744 - accuracy: 0.7601 - val_loss: 0.3482 - val_accuracy: 0.9080\n",
            "Epoch 8/25\n",
            "272/272 [==============================] - 6s 23ms/step - loss: 0.6270 - accuracy: 0.8052 - val_loss: 0.2126 - val_accuracy: 0.9431\n",
            "Epoch 9/25\n",
            "272/272 [==============================] - 6s 23ms/step - loss: 0.5456 - accuracy: 0.8314 - val_loss: 0.1946 - val_accuracy: 0.9496\n",
            "Epoch 10/25\n",
            "272/272 [==============================] - 6s 23ms/step - loss: 0.4668 - accuracy: 0.8542 - val_loss: 0.1174 - val_accuracy: 0.9736\n",
            "Epoch 11/25\n",
            "272/272 [==============================] - 6s 23ms/step - loss: 0.4208 - accuracy: 0.8707 - val_loss: 0.1047 - val_accuracy: 0.9753\n",
            "Epoch 12/25\n",
            "272/272 [==============================] - 6s 23ms/step - loss: 0.3760 - accuracy: 0.8834 - val_loss: 0.1179 - val_accuracy: 0.9656\n",
            "Epoch 13/25\n",
            "272/272 [==============================] - 6s 23ms/step - loss: 0.3422 - accuracy: 0.8929 - val_loss: 0.0863 - val_accuracy: 0.9762\n",
            "Epoch 14/25\n",
            "272/272 [==============================] - 6s 23ms/step - loss: 0.3188 - accuracy: 0.9023 - val_loss: 0.0639 - val_accuracy: 0.9832\n",
            "Epoch 15/25\n",
            "272/272 [==============================] - 6s 22ms/step - loss: 0.2970 - accuracy: 0.9090 - val_loss: 0.0579 - val_accuracy: 0.9876\n",
            "Epoch 16/25\n",
            "272/272 [==============================] - 6s 23ms/step - loss: 0.2891 - accuracy: 0.9133 - val_loss: 0.0481 - val_accuracy: 0.9895\n",
            "Epoch 17/25\n",
            "272/272 [==============================] - 6s 23ms/step - loss: 0.2739 - accuracy: 0.9170 - val_loss: 0.0549 - val_accuracy: 0.9866\n",
            "Epoch 18/25\n",
            "272/272 [==============================] - 6s 23ms/step - loss: 0.2619 - accuracy: 0.9219 - val_loss: 0.0412 - val_accuracy: 0.9895\n",
            "Epoch 19/25\n",
            "272/272 [==============================] - 6s 23ms/step - loss: 0.2590 - accuracy: 0.9242 - val_loss: 0.0544 - val_accuracy: 0.9876\n",
            "Epoch 20/25\n",
            "272/272 [==============================] - 6s 23ms/step - loss: 0.2598 - accuracy: 0.9226 - val_loss: 0.0342 - val_accuracy: 0.9916\n",
            "Epoch 21/25\n",
            "272/272 [==============================] - 6s 23ms/step - loss: 0.2439 - accuracy: 0.9267 - val_loss: 0.0462 - val_accuracy: 0.9877\n",
            "Epoch 22/25\n",
            "272/272 [==============================] - 6s 23ms/step - loss: 0.2289 - accuracy: 0.9347 - val_loss: 0.0453 - val_accuracy: 0.9873\n",
            "Epoch 23/25\n",
            "272/272 [==============================] - 6s 23ms/step - loss: 0.2359 - accuracy: 0.9318 - val_loss: 0.0267 - val_accuracy: 0.9937\n",
            "Epoch 24/25\n",
            "272/272 [==============================] - 6s 23ms/step - loss: 0.2367 - accuracy: 0.9315 - val_loss: 0.0265 - val_accuracy: 0.9947\n",
            "Epoch 25/25\n",
            "272/272 [==============================] - 6s 23ms/step - loss: 0.2343 - accuracy: 0.9338 - val_loss: 0.0341 - val_accuracy: 0.9913\n"
          ],
          "name": "stdout"
        }
      ]
    },
    {
      "cell_type": "code",
      "metadata": {
        "id": "u-lqRxjboXEr",
        "colab_type": "code",
        "colab": {
          "base_uri": "https://localhost:8080/",
          "height": 838
        },
        "outputId": "b0be7b69-40db-43db-ef64-420e5bae5794"
      },
      "source": [
        "%tensorboard --logdir logs"
      ],
      "execution_count": 28,
      "outputs": [
        {
          "output_type": "display_data",
          "data": {
            "text/plain": [
              "Reusing TensorBoard on port 6006 (pid 605), started 0:15:19 ago. (Use '!kill 605' to kill it.)"
            ]
          },
          "metadata": {
            "tags": []
          }
        },
        {
          "output_type": "display_data",
          "data": {
            "application/javascript": [
              "\n",
              "        (async () => {\n",
              "            const url = await google.colab.kernel.proxyPort(6006, {\"cache\": true});\n",
              "            const iframe = document.createElement('iframe');\n",
              "            iframe.src = url;\n",
              "            iframe.setAttribute('width', '100%');\n",
              "            iframe.setAttribute('height', '800');\n",
              "            iframe.setAttribute('frameborder', 0);\n",
              "            document.body.appendChild(iframe);\n",
              "        })();\n",
              "    "
            ],
            "text/plain": [
              "<IPython.core.display.Javascript object>"
            ]
          },
          "metadata": {
            "tags": []
          }
        }
      ]
    }
  ]
}